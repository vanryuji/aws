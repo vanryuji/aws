{
  "nbformat": 4,
  "nbformat_minor": 0,
  "metadata": {
    "colab": {
      "name": "sqs.ipynb",
      "provenance": [],
      "include_colab_link": true
    },
    "kernelspec": {
      "name": "python3",
      "display_name": "Python 3"
    }
  },
  "cells": [
    {
      "cell_type": "markdown",
      "metadata": {
        "id": "view-in-github",
        "colab_type": "text"
      },
      "source": [
        "<a href=\"https://colab.research.google.com/github/vanryuji/aws/blob/master/sdk/sqs.ipynb\" target=\"_parent\"><img src=\"https://colab.research.google.com/assets/colab-badge.svg\" alt=\"Open In Colab\"/></a>"
      ]
    },
    {
      "cell_type": "markdown",
      "metadata": {
        "id": "nJ_7_uhgkdQe",
        "colab_type": "text"
      },
      "source": [
        "# References\n",
        "sample code : https://docs.aws.amazon.com/code-samples/latest/catalog/code-catalog-python-example_code-sqs.html <br>\n",
        "api doc : https://docs.aws.amazon.com/AWSSimpleQueueService/latest/APIReference/Welcome.html"
      ]
    },
    {
      "cell_type": "code",
      "metadata": {
        "id": "SeuOO72_AmRg",
        "colab_type": "code",
        "colab": {}
      },
      "source": [
        "import boto3"
      ],
      "execution_count": 0,
      "outputs": []
    },
    {
      "cell_type": "code",
      "metadata": {
        "id": "AOy73_v0biCc",
        "colab_type": "code",
        "colab": {}
      },
      "source": [
        "sqs_client = boto3.client(\n",
        "    'sqs', \n",
        "    region_name='',\n",
        "    aws_access_key_id='',\n",
        "    aws_secret_access_key=''\n",
        ")\n",
        "sqs_queue_url = ''"
      ],
      "execution_count": 0,
      "outputs": []
    },
    {
      "cell_type": "markdown",
      "metadata": {
        "id": "lNJMtM36gRFC",
        "colab_type": "text"
      },
      "source": [
        "# Send/receive message by SQS"
      ]
    },
    {
      "cell_type": "code",
      "metadata": {
        "id": "L1B7nJ9tfNLa",
        "colab_type": "code",
        "colab": {}
      },
      "source": [
        "num_of_requests = 39\n",
        "for i in range(num_of_requests):\n",
        "    msg_body = 'Sending message using SQS {}'.format(i)\n",
        "    msg = sqs_client.send_message(QueueUrl=sqs_queue_url, MessageBody=msg_body)\n",
        "    # print(msg)"
      ],
      "execution_count": 0,
      "outputs": []
    },
    {
      "cell_type": "markdown",
      "metadata": {
        "id": "oPV6znArGhVS",
        "colab_type": "text"
      },
      "source": [
        "1) Get a message"
      ]
    },
    {
      "cell_type": "code",
      "metadata": {
        "id": "7buFlvz_gfTV",
        "colab_type": "code",
        "outputId": "7af6e2d8-1a1f-430c-b002-78b9e14b26d5",
        "colab": {
          "base_uri": "https://localhost:8080/",
          "height": 34
        }
      },
      "source": [
        "msgs = sqs_client.receive_message(QueueUrl=sqs_queue_url, )\n",
        "if 'Messages' in msgs:\n",
        "    for msg in msgs['Messages']:\n",
        "        print(msg['Body'])\n",
        "        sqs_client.delete_message(QueueUrl=sqs_queue_url, ReceiptHandle=msg['ReceiptHandle'])\n",
        "else:\n",
        "    print('no message')"
      ],
      "execution_count": 0,
      "outputs": [
        {
          "output_type": "stream",
          "text": [
            "Sending message using SQS\n"
          ],
          "name": "stdout"
        }
      ]
    },
    {
      "cell_type": "markdown",
      "metadata": {
        "id": "iHaIzmM-GsN8",
        "colab_type": "text"
      },
      "source": [
        "2) Get messages less than 10"
      ]
    },
    {
      "cell_type": "code",
      "metadata": {
        "id": "SZc7bK6JDjWi",
        "colab_type": "code",
        "outputId": "dd115492-22a4-4d06-db10-3b5415b5d77f",
        "colab": {
          "base_uri": "https://localhost:8080/",
          "height": 34
        }
      },
      "source": [
        "msgs = sqs_client.receive_message(QueueUrl=sqs_queue_url, MaxNumberOfMessages=10, WaitTimeSeconds=5)\n",
        "if 'Messages' in msgs:\n",
        "    for msg in msgs['Messages']:\n",
        "        print(msg['Body'])\n",
        "        sqs_client.delete_message(QueueUrl=sqs_queue_url, ReceiptHandle=msg['ReceiptHandle'])\n",
        "else:\n",
        "    print('no message')"
      ],
      "execution_count": 14,
      "outputs": [
        {
          "output_type": "stream",
          "text": [
            "no message\n"
          ],
          "name": "stdout"
        }
      ]
    }
  ]
}