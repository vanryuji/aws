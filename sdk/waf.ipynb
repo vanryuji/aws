{
  "nbformat": 4,
  "nbformat_minor": 0,
  "metadata": {
    "colab": {
      "name": "waf_aws_cli.ipynb",
      "provenance": [],
      "toc_visible": true,
      "include_colab_link": true
    },
    "kernelspec": {
      "name": "python3",
      "display_name": "Python 3"
    }
  },
  "cells": [
    {
      "cell_type": "markdown",
      "metadata": {
        "id": "view-in-github",
        "colab_type": "text"
      },
      "source": [
        "<a href=\"https://colab.research.google.com/github/vanryuji/aws/blob/master/sdk/waf.ipynb\" target=\"_parent\"><img src=\"https://colab.research.google.com/assets/colab-badge.svg\" alt=\"Open In Colab\"/></a>"
      ]
    },
    {
      "cell_type": "markdown",
      "metadata": {
        "id": "Nn2tcImY0jFW",
        "colab_type": "text"
      },
      "source": [
        "Reference : https://boto3.amazonaws.com/v1/documentation/api/latest/index.html"
      ]
    },
    {
      "cell_type": "code",
      "metadata": {
        "id": "e8uhoRN5z-A8",
        "colab_type": "code",
        "colab": {}
      },
      "source": [
        "from boto3 import client"
      ],
      "execution_count": 0,
      "outputs": []
    },
    {
      "cell_type": "markdown",
      "metadata": {
        "id": "ufaVhHrq2bXb",
        "colab_type": "text"
      },
      "source": [
        "# WAF"
      ]
    },
    {
      "cell_type": "code",
      "metadata": {
        "id": "zW5wV8TQ4tav",
        "colab_type": "code",
        "outputId": "170cca72-319d-4001-d8d1-ffc0b1a41cca",
        "colab": {
          "base_uri": "https://localhost:8080/",
          "height": 85
        }
      },
      "source": [
        "# For security reason, you must define access key and secret key as environment variables\n",
        "# https://boto3.amazonaws.com/v1/documentation/api/latest/guide/configuration.html#environment-variables\n",
        "\n",
        "%env AWS_ACCESS_KEY_ID=<your_AWS_ACCESS_KEY_ID>\n",
        "%env AWS_SECRET_ACCESS_KEY=<your_AWS_SECRET_ACCESS_KEY>\n",
        "!echo $AWS_ACCESS_KEY_ID\n",
        "!echo $AWS_SECRET_ACCESS_KEY"
      ],
      "execution_count": 1,
      "outputs": [
        {
          "output_type": "stream",
          "text": [
            "env: AWS_ACCESS_KEY_ID=<your_AWS_ACCESS_KEY_ID>\n",
            "env: AWS_SECRET_ACCESS_KEY=<your_AWS_SECRET_ACCESS_KEY>\n",
            "<your_AWS_ACCESS_KEY_ID>\n",
            "<your_AWS_SECRET_ACCESS_KEY>\n"
          ],
          "name": "stdout"
        }
      ]
    },
    {
      "cell_type": "code",
      "metadata": {
        "id": "0WTPj35E0wmA",
        "colab_type": "code",
        "colab": {}
      },
      "source": [
        "client_ = client('waf')"
      ],
      "execution_count": 0,
      "outputs": []
    },
    {
      "cell_type": "code",
      "metadata": {
        "id": "41Bk9a182HGO",
        "colab_type": "code",
        "outputId": "b53d939b-e4c1-4d75-9a01-cbf634d6477e",
        "colab": {
          "base_uri": "https://localhost:8080/",
          "height": 153
        }
      },
      "source": [
        "client_.get_change_token()"
      ],
      "execution_count": 0,
      "outputs": [
        {
          "output_type": "execute_result",
          "data": {
            "text/plain": [
              "{'ChangeToken': 'c457d5f6-135c-4d4b-8a70-c7c35db56f3d',\n",
              " 'ResponseMetadata': {'HTTPHeaders': {'content-length': '54',\n",
              "   'content-type': 'application/x-amz-json-1.1',\n",
              "   'date': 'Wed, 31 Jul 2019 07:32:53 GMT',\n",
              "   'x-amzn-requestid': '6899cf8c-b365-11e9-8bc7-1f01bb4ed705'},\n",
              "  'HTTPStatusCode': 200,\n",
              "  'RequestId': '6899cf8c-b365-11e9-8bc7-1f01bb4ed705',\n",
              "  'RetryAttempts': 0}}"
            ]
          },
          "metadata": {
            "tags": []
          },
          "execution_count": 10
        }
      ]
    },
    {
      "cell_type": "code",
      "metadata": {
        "id": "XJC9Y_AN2f7l",
        "colab_type": "code",
        "outputId": "01574471-1902-4e4b-a86c-505be54a4d7a",
        "colab": {
          "base_uri": "https://localhost:8080/",
          "height": 323
        }
      },
      "source": [
        "client_.list_ip_sets()"
      ],
      "execution_count": 0,
      "outputs": [
        {
          "output_type": "execute_result",
          "data": {
            "text/plain": [
              "{'IPSets': [{'IPSetId': '33c675c1-d365-4e8d-ad3d-bcb04d907831',\n",
              "   'Name': 'test-vanryuji - Scanners & Probes Set'},\n",
              "  {'IPSetId': '3d502b49-fc10-489d-956b-a3e2d2035122',\n",
              "   'Name': 'test-vanryuji - IP Reputation Lists Set'},\n",
              "  {'IPSetId': '68fa2616-046b-4d4a-961d-b9ce842581ab',\n",
              "   'Name': 'test-vanryuji - Blacklist Set'},\n",
              "  {'IPSetId': 'b24b6568-e788-4efc-a88c-986e13240aaf',\n",
              "   'Name': 'test-vanryuji - IP Bad Bot Set'},\n",
              "  {'IPSetId': 'ef0b8a93-aea5-4713-8a95-4554af16b641',\n",
              "   'Name': 'test-vanryuji - Whitelist Set'}],\n",
              " 'NextMarker': 'ef0b8a93-aea5-4713-8a95-4554af16b641',\n",
              " 'ResponseMetadata': {'HTTPHeaders': {'content-length': '533',\n",
              "   'content-type': 'application/x-amz-json-1.1',\n",
              "   'date': 'Wed, 31 Jul 2019 07:34:07 GMT',\n",
              "   'x-amzn-requestid': '94f280c9-b365-11e9-ad83-ff3740cb3e02'},\n",
              "  'HTTPStatusCode': 200,\n",
              "  'RequestId': '94f280c9-b365-11e9-ad83-ff3740cb3e02',\n",
              "  'RetryAttempts': 0}}"
            ]
          },
          "metadata": {
            "tags": []
          },
          "execution_count": 12
        }
      ]
    },
    {
      "cell_type": "code",
      "metadata": {
        "id": "qywMIYHC2rF2",
        "colab_type": "code",
        "outputId": "ed30d155-027d-47d7-cdcb-716f2014545d",
        "colab": {
          "base_uri": "https://localhost:8080/",
          "height": 54
        }
      },
      "source": [
        "### Insert IP Set ###\n",
        "\n",
        "ip_sets = client_.list_ip_sets()\n",
        "for ip_set in ip_sets['IPSets']:\n",
        "    if ip_set['Name'] == 'test-vanryuji - Blacklist Set':\n",
        "        ip_set_id = ip_set['IPSetId']\n",
        "        break\n",
        "\n",
        "res = client_.update_ip_set(\n",
        "    IPSetId=ip_set_id,\n",
        "    ChangeToken=client_.get_change_token()['ChangeToken'],\n",
        "    Updates=[\n",
        "        {\n",
        "            'Action': 'INSERT',\n",
        "            'IPSetDescriptor': {\n",
        "                'Type': 'IPV4',\n",
        "                'Value': '199.244.56.0/21'\n",
        "            }\n",
        "        },\n",
        "    ]\n",
        ")\n",
        "print(res)"
      ],
      "execution_count": 0,
      "outputs": [
        {
          "output_type": "stream",
          "text": [
            "{'ChangeToken': 'c457d5f6-135c-4d4b-8a70-c7c35db56f3d', 'ResponseMetadata': {'RequestId': 'a1a75f03-b365-11e9-8729-1782933da84b', 'HTTPStatusCode': 200, 'HTTPHeaders': {'x-amzn-requestid': 'a1a75f03-b365-11e9-8729-1782933da84b', 'content-type': 'application/x-amz-json-1.1', 'content-length': '54', 'date': 'Wed, 31 Jul 2019 07:34:29 GMT'}, 'RetryAttempts': 0}}\n"
          ],
          "name": "stdout"
        }
      ]
    },
    {
      "cell_type": "code",
      "metadata": {
        "id": "3ppewC1-36AY",
        "colab_type": "code",
        "outputId": "04f2e313-8edc-49ef-efbf-f6a5faa4f07e",
        "colab": {
          "base_uri": "https://localhost:8080/",
          "height": 54
        }
      },
      "source": [
        "### Delete IP Set ###\n",
        "\n",
        "ip_sets = client_.list_ip_sets()\n",
        "for ip_set in ip_sets['IPSets']:\n",
        "    if ip_set['Name'] == 'test-vanryuji - Blacklist Set':\n",
        "        ip_set_id = ip_set['IPSetId']\n",
        "        break\n",
        "\n",
        "res = client_.update_ip_set(\n",
        "    IPSetId=ip_set_id,\n",
        "    ChangeToken=client_.get_change_token()['ChangeToken'],\n",
        "    Updates=[\n",
        "        {\n",
        "            'Action': 'DELETE',\n",
        "            'IPSetDescriptor': {\n",
        "                'Type': 'IPV4',\n",
        "                'Value': '199.244.56.0/21'\n",
        "            }\n",
        "        },\n",
        "    ]\n",
        ")\n",
        "print(res)"
      ],
      "execution_count": 0,
      "outputs": [
        {
          "output_type": "stream",
          "text": [
            "{'ChangeToken': '1d2b42e2-c1b6-4ce3-abec-8e4608566422', 'ResponseMetadata': {'RequestId': 'c9454732-b365-11e9-8729-1782933da84b', 'HTTPStatusCode': 200, 'HTTPHeaders': {'x-amzn-requestid': 'c9454732-b365-11e9-8729-1782933da84b', 'content-type': 'application/x-amz-json-1.1', 'content-length': '54', 'date': 'Wed, 31 Jul 2019 07:35:36 GMT'}, 'RetryAttempts': 0}}\n"
          ],
          "name": "stdout"
        }
      ]
    }
  ]
}